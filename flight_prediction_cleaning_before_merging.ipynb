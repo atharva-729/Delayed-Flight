{
  "nbformat": 4,
  "nbformat_minor": 0,
  "metadata": {
    "colab": {
      "provenance": []
    },
    "kernelspec": {
      "name": "python3",
      "display_name": "Python 3"
    },
    "language_info": {
      "name": "python"
    }
  },
  "cells": [
    {
      "cell_type": "code",
      "execution_count": 15,
      "metadata": {
        "id": "6vSUiLmP6Uw2"
      },
      "outputs": [],
      "source": [
        "import pandas as pd\n",
        "df = pd.read_parquet(\"Combined_Flights_2018.parquet\")"
      ]
    },
    {
      "cell_type": "code",
      "source": [
        "df_cleaned = df.dropna()\n",
        "del(df)"
      ],
      "metadata": {
        "id": "nwCGEmtZ92jg"
      },
      "execution_count": 16,
      "outputs": []
    },
    {
      "cell_type": "code",
      "source": [
        "missing_iata = [\"PSE\", \"SJU\", \"STT\", \"STX\", \"PPG\", \"GUM\", \"SPN\", \"ROP\"]"
      ],
      "metadata": {
        "id": "rM4Wwl7fiys4"
      },
      "execution_count": 24,
      "outputs": []
    },
    {
      "cell_type": "markdown",
      "source": [
        "these 8 are not in continental US, noaa does not have these in its databse (it might, but i cleaned more than i wanted to) won't go back now"
      ],
      "metadata": {
        "id": "rFwTBxmZhDmY"
      }
    },
    {
      "cell_type": "code",
      "source": [
        "df_cleaned = df_cleaned[~df_cleaned[\"Origin\"].isin(missing_iata)]\n",
        "df_cleaned = df_cleaned[~df_cleaned[\"Dest\"].isin(missing_iata)]"
      ],
      "metadata": {
        "id": "enF9OCaIkRyh"
      },
      "execution_count": 25,
      "outputs": []
    },
    {
      "cell_type": "code",
      "source": [
        "X = df_cleaned[[\"FlightDate\", \"Origin\", \"Dest\", \"CRSDepTime\", \"CRSArrTime\", \"Distance\", \"Month\", \"DayofMonth\", \"DayOfWeek\", \"IATA_Code_Marketing_Airline\", \"Tail_Number\"]]\n",
        "y_cancel = df_cleaned['Cancelled']\n",
        "y_delay = df_cleaned['DepDelay']\n",
        "y_arr = df_cleaned['ArrDelay']\n",
        "del(df_cleaned)"
      ],
      "metadata": {
        "id": "1HgbGKF2vReH"
      },
      "execution_count": 27,
      "outputs": []
    },
    {
      "cell_type": "code",
      "source": [
        "y_cancel = y_cancel.astype(int)"
      ],
      "metadata": {
        "id": "T8teuW3rNdoT"
      },
      "execution_count": 28,
      "outputs": []
    },
    {
      "cell_type": "code",
      "source": [
        "X.info()"
      ],
      "metadata": {
        "colab": {
          "base_uri": "https://localhost:8080/"
        },
        "id": "ogVmgDxoF2iM",
        "outputId": "9216a6ed-cd69-4e60-a192-116862be8aa8"
      },
      "execution_count": 29,
      "outputs": [
        {
          "output_type": "stream",
          "name": "stdout",
          "text": [
            "<class 'pandas.core.frame.DataFrame'>\n",
            "Index: 5531151 entries, 0 to 5578617\n",
            "Data columns (total 11 columns):\n",
            " #   Column                       Dtype         \n",
            "---  ------                       -----         \n",
            " 0   FlightDate                   datetime64[us]\n",
            " 1   Origin                       object        \n",
            " 2   Dest                         object        \n",
            " 3   CRSDepTime                   int64         \n",
            " 4   CRSArrTime                   int64         \n",
            " 5   Distance                     float64       \n",
            " 6   Month                        int64         \n",
            " 7   DayofMonth                   int64         \n",
            " 8   DayOfWeek                    int64         \n",
            " 9   IATA_Code_Marketing_Airline  object        \n",
            " 10  Tail_Number                  object        \n",
            "dtypes: datetime64[us](1), float64(1), int64(5), object(4)\n",
            "memory usage: 506.4+ MB\n"
          ]
        }
      ]
    },
    {
      "cell_type": "code",
      "source": [
        "X.isna().sum()"
      ],
      "metadata": {
        "colab": {
          "base_uri": "https://localhost:8080/",
          "height": 428
        },
        "id": "evs5ev29GA_a",
        "outputId": "b10bf510-1434-4e30-bada-11f8dcb1a42c"
      },
      "execution_count": 30,
      "outputs": [
        {
          "output_type": "execute_result",
          "data": {
            "text/plain": [
              "FlightDate                     0\n",
              "Origin                         0\n",
              "Dest                           0\n",
              "CRSDepTime                     0\n",
              "CRSArrTime                     0\n",
              "Distance                       0\n",
              "Month                          0\n",
              "DayofMonth                     0\n",
              "DayOfWeek                      0\n",
              "IATA_Code_Marketing_Airline    0\n",
              "Tail_Number                    0\n",
              "dtype: int64"
            ],
            "text/html": [
              "<div>\n",
              "<style scoped>\n",
              "    .dataframe tbody tr th:only-of-type {\n",
              "        vertical-align: middle;\n",
              "    }\n",
              "\n",
              "    .dataframe tbody tr th {\n",
              "        vertical-align: top;\n",
              "    }\n",
              "\n",
              "    .dataframe thead th {\n",
              "        text-align: right;\n",
              "    }\n",
              "</style>\n",
              "<table border=\"1\" class=\"dataframe\">\n",
              "  <thead>\n",
              "    <tr style=\"text-align: right;\">\n",
              "      <th></th>\n",
              "      <th>0</th>\n",
              "    </tr>\n",
              "  </thead>\n",
              "  <tbody>\n",
              "    <tr>\n",
              "      <th>FlightDate</th>\n",
              "      <td>0</td>\n",
              "    </tr>\n",
              "    <tr>\n",
              "      <th>Origin</th>\n",
              "      <td>0</td>\n",
              "    </tr>\n",
              "    <tr>\n",
              "      <th>Dest</th>\n",
              "      <td>0</td>\n",
              "    </tr>\n",
              "    <tr>\n",
              "      <th>CRSDepTime</th>\n",
              "      <td>0</td>\n",
              "    </tr>\n",
              "    <tr>\n",
              "      <th>CRSArrTime</th>\n",
              "      <td>0</td>\n",
              "    </tr>\n",
              "    <tr>\n",
              "      <th>Distance</th>\n",
              "      <td>0</td>\n",
              "    </tr>\n",
              "    <tr>\n",
              "      <th>Month</th>\n",
              "      <td>0</td>\n",
              "    </tr>\n",
              "    <tr>\n",
              "      <th>DayofMonth</th>\n",
              "      <td>0</td>\n",
              "    </tr>\n",
              "    <tr>\n",
              "      <th>DayOfWeek</th>\n",
              "      <td>0</td>\n",
              "    </tr>\n",
              "    <tr>\n",
              "      <th>IATA_Code_Marketing_Airline</th>\n",
              "      <td>0</td>\n",
              "    </tr>\n",
              "    <tr>\n",
              "      <th>Tail_Number</th>\n",
              "      <td>0</td>\n",
              "    </tr>\n",
              "  </tbody>\n",
              "</table>\n",
              "</div><br><label><b>dtype:</b> int64</label>"
            ]
          },
          "metadata": {},
          "execution_count": 30
        }
      ]
    },
    {
      "cell_type": "code",
      "source": [],
      "metadata": {
        "id": "iRi-b2nmGWMi"
      },
      "execution_count": null,
      "outputs": []
    },
    {
      "cell_type": "code",
      "source": [
        "aby = pd.read_csv(\"ABY.csv\")"
      ],
      "metadata": {
        "id": "kOd5LKPMGWKp"
      },
      "execution_count": 31,
      "outputs": []
    },
    {
      "cell_type": "code",
      "source": [
        "aby.info()"
      ],
      "metadata": {
        "colab": {
          "base_uri": "https://localhost:8080/"
        },
        "id": "0DcbJ2ASGWIr",
        "outputId": "bd6da780-9e38-440a-91e7-5988b6ab9efe"
      },
      "execution_count": 32,
      "outputs": [
        {
          "output_type": "stream",
          "name": "stdout",
          "text": [
            "<class 'pandas.core.frame.DataFrame'>\n",
            "RangeIndex: 12159 entries, 0 to 12158\n",
            "Data columns (total 18 columns):\n",
            " #   Column  Non-Null Count  Dtype  \n",
            "---  ------  --------------  -----  \n",
            " 0   DATE    12159 non-null  object \n",
            " 1   WND     12158 non-null  float64\n",
            " 2   CIG     12159 non-null  float64\n",
            " 3   VIS     12159 non-null  float64\n",
            " 4   TMP     12159 non-null  float64\n",
            " 5   DEW     12157 non-null  float64\n",
            " 6   SLP     12129 non-null  float64\n",
            " 7   AA1     12058 non-null  float64\n",
            " 8   AA2     689 non-null    float64\n",
            " 9   AT1     7675 non-null   float64\n",
            " 10  AT2     5930 non-null   float64\n",
            " 11  AU1     2432 non-null   float64\n",
            " 12  AU2     829 non-null    float64\n",
            " 13  AW1     2416 non-null   float64\n",
            " 14  AW2     900 non-null    float64\n",
            " 15  GD1     11971 non-null  float64\n",
            " 16  GD2     3439 non-null   float64\n",
            " 17  OC1     730 non-null    float64\n",
            "dtypes: float64(17), object(1)\n",
            "memory usage: 1.7+ MB\n"
          ]
        }
      ]
    },
    {
      "cell_type": "code",
      "source": [
        "check = X.head().copy()"
      ],
      "metadata": {
        "id": "sVlbRpEmGWG7"
      },
      "execution_count": 35,
      "outputs": []
    },
    {
      "cell_type": "code",
      "source": [
        "import numpy as np"
      ],
      "metadata": {
        "id": "Xi_BsvgKXXTR"
      },
      "execution_count": null,
      "outputs": []
    },
    {
      "cell_type": "code",
      "source": [
        "def parse_hhmm(t):\n",
        "    \"\"\"Convert time in HHMM format to hours, minutes tuple. Handles NaN gracefully.\"\"\"\n",
        "    if pd.isna(t):\n",
        "        return np.nan, np.nan\n",
        "    t = int(t)\n",
        "    hour = t // 100\n",
        "    minute = t % 100\n",
        "    return hour, minute\n",
        "\n",
        "# --- Create Departure datetime ---\n",
        "dep_hm = X[\"CRSDepTime\"].apply(parse_hhmm)\n",
        "X[\"Dep_Hour\"] = dep_hm.apply(lambda t: t[0])\n",
        "X[\"Dep_Minute\"] = dep_hm.apply(lambda t: t[1])\n",
        "\n",
        "X[\"Dep_DateTime\"] = pd.to_datetime(X[\"FlightDate\"]) + pd.to_timedelta(\n",
        "    X[\"Dep_Hour\"].fillna(0).astype(int), unit=\"h\"\n",
        ") + pd.to_timedelta(\n",
        "    X[\"Dep_Minute\"].fillna(0).astype(int), unit=\"m\"\n",
        ")\n",
        "\n",
        "# --- Create Arrival datetime ---\n",
        "arr_hm = X[\"CRSArrTime\"].apply(parse_hhmm)\n",
        "X[\"Arr_Hour\"] = arr_hm.apply(lambda t: t[0])\n",
        "X[\"Arr_Minute\"] = arr_hm.apply(lambda t: t[1])\n",
        "\n",
        "X[\"Arr_DateTime\"] = pd.to_datetime(X[\"FlightDate\"]) + pd.to_timedelta(\n",
        "    X[\"Arr_Hour\"].fillna(0).astype(int), unit=\"h\"\n",
        ") + pd.to_timedelta(\n",
        "    X[\"Arr_Minute\"].fillna(0).astype(int), unit=\"m\"\n",
        ")\n",
        "\n",
        "# --- Handle overnight arrivals (arrives next day) ---\n",
        "# If scheduled arrival time is numerically *less* than departure time, it means next day arrival\n",
        "mask_next_day = X[\"CRSArrTime\"] < X[\"CRSDepTime\"]\n",
        "X.loc[mask_next_day, \"Arr_DateTime\"] += pd.Timedelta(days=1)\n",
        "\n",
        "# Optional cleanup (remove helper cols if you want)\n",
        "X.drop(columns=[\"Dep_Hour\", \"Dep_Minute\", \"Arr_Hour\", \"Arr_Minute\"], inplace=True)"
      ],
      "metadata": {
        "id": "Ajjx5Z8fINkO"
      },
      "execution_count": 39,
      "outputs": []
    },
    {
      "cell_type": "code",
      "source": [
        "print(\"notebook abhi zinda hai\")"
      ],
      "metadata": {
        "colab": {
          "base_uri": "https://localhost:8080/"
        },
        "id": "6ApA2aypINiT",
        "outputId": "9257c84b-0581-4ada-b593-18e34694508c"
      },
      "execution_count": 37,
      "outputs": [
        {
          "output_type": "stream",
          "name": "stdout",
          "text": [
            "notebook abhi zinda hai\n"
          ]
        }
      ]
    },
    {
      "cell_type": "code",
      "source": [
        "X.to_parquet(\"2018_flights_cleaned_final_before_merging.parquet\")"
      ],
      "metadata": {
        "id": "kenpiz0ZIOUR"
      },
      "execution_count": 41,
      "outputs": []
    },
    {
      "cell_type": "code",
      "source": [
        "X.head()"
      ],
      "metadata": {
        "colab": {
          "base_uri": "https://localhost:8080/",
          "height": 313
        },
        "id": "vxAw96VXIOKx",
        "outputId": "c3045f08-de67-4cc4-8d54-e9a308f7248a"
      },
      "execution_count": 40,
      "outputs": [
        {
          "output_type": "execute_result",
          "data": {
            "text/plain": [
              "  FlightDate Origin Dest  CRSDepTime  CRSArrTime  Distance  Month  DayofMonth  \\\n",
              "0 2018-01-23    ABY  ATL        1202        1304     145.0      1          23   \n",
              "1 2018-01-24    ABY  ATL        1202        1304     145.0      1          24   \n",
              "2 2018-01-25    ABY  ATL        1202        1304     145.0      1          25   \n",
              "3 2018-01-26    ABY  ATL        1202        1304     145.0      1          26   \n",
              "4 2018-01-27    ABY  ATL        1400        1500     145.0      1          27   \n",
              "\n",
              "   DayOfWeek IATA_Code_Marketing_Airline Tail_Number        Dep_DateTime  \\\n",
              "0          2                          DL      N8928A 2018-01-23 12:02:00   \n",
              "1          3                          DL      N800AY 2018-01-24 12:02:00   \n",
              "2          4                          DL      N8836A 2018-01-25 12:02:00   \n",
              "3          5                          DL      N800AY 2018-01-26 12:02:00   \n",
              "4          6                          DL      N8839E 2018-01-27 14:00:00   \n",
              "\n",
              "         Arr_DateTime  \n",
              "0 2018-01-23 13:04:00  \n",
              "1 2018-01-24 13:04:00  \n",
              "2 2018-01-25 13:04:00  \n",
              "3 2018-01-26 13:04:00  \n",
              "4 2018-01-27 15:00:00  "
            ],
            "text/html": [
              "\n",
              "  <div id=\"df-e08b2206-37ec-4100-83b1-d6e61e2595dd\" class=\"colab-df-container\">\n",
              "    <div>\n",
              "<style scoped>\n",
              "    .dataframe tbody tr th:only-of-type {\n",
              "        vertical-align: middle;\n",
              "    }\n",
              "\n",
              "    .dataframe tbody tr th {\n",
              "        vertical-align: top;\n",
              "    }\n",
              "\n",
              "    .dataframe thead th {\n",
              "        text-align: right;\n",
              "    }\n",
              "</style>\n",
              "<table border=\"1\" class=\"dataframe\">\n",
              "  <thead>\n",
              "    <tr style=\"text-align: right;\">\n",
              "      <th></th>\n",
              "      <th>FlightDate</th>\n",
              "      <th>Origin</th>\n",
              "      <th>Dest</th>\n",
              "      <th>CRSDepTime</th>\n",
              "      <th>CRSArrTime</th>\n",
              "      <th>Distance</th>\n",
              "      <th>Month</th>\n",
              "      <th>DayofMonth</th>\n",
              "      <th>DayOfWeek</th>\n",
              "      <th>IATA_Code_Marketing_Airline</th>\n",
              "      <th>Tail_Number</th>\n",
              "      <th>Dep_DateTime</th>\n",
              "      <th>Arr_DateTime</th>\n",
              "    </tr>\n",
              "  </thead>\n",
              "  <tbody>\n",
              "    <tr>\n",
              "      <th>0</th>\n",
              "      <td>2018-01-23</td>\n",
              "      <td>ABY</td>\n",
              "      <td>ATL</td>\n",
              "      <td>1202</td>\n",
              "      <td>1304</td>\n",
              "      <td>145.0</td>\n",
              "      <td>1</td>\n",
              "      <td>23</td>\n",
              "      <td>2</td>\n",
              "      <td>DL</td>\n",
              "      <td>N8928A</td>\n",
              "      <td>2018-01-23 12:02:00</td>\n",
              "      <td>2018-01-23 13:04:00</td>\n",
              "    </tr>\n",
              "    <tr>\n",
              "      <th>1</th>\n",
              "      <td>2018-01-24</td>\n",
              "      <td>ABY</td>\n",
              "      <td>ATL</td>\n",
              "      <td>1202</td>\n",
              "      <td>1304</td>\n",
              "      <td>145.0</td>\n",
              "      <td>1</td>\n",
              "      <td>24</td>\n",
              "      <td>3</td>\n",
              "      <td>DL</td>\n",
              "      <td>N800AY</td>\n",
              "      <td>2018-01-24 12:02:00</td>\n",
              "      <td>2018-01-24 13:04:00</td>\n",
              "    </tr>\n",
              "    <tr>\n",
              "      <th>2</th>\n",
              "      <td>2018-01-25</td>\n",
              "      <td>ABY</td>\n",
              "      <td>ATL</td>\n",
              "      <td>1202</td>\n",
              "      <td>1304</td>\n",
              "      <td>145.0</td>\n",
              "      <td>1</td>\n",
              "      <td>25</td>\n",
              "      <td>4</td>\n",
              "      <td>DL</td>\n",
              "      <td>N8836A</td>\n",
              "      <td>2018-01-25 12:02:00</td>\n",
              "      <td>2018-01-25 13:04:00</td>\n",
              "    </tr>\n",
              "    <tr>\n",
              "      <th>3</th>\n",
              "      <td>2018-01-26</td>\n",
              "      <td>ABY</td>\n",
              "      <td>ATL</td>\n",
              "      <td>1202</td>\n",
              "      <td>1304</td>\n",
              "      <td>145.0</td>\n",
              "      <td>1</td>\n",
              "      <td>26</td>\n",
              "      <td>5</td>\n",
              "      <td>DL</td>\n",
              "      <td>N800AY</td>\n",
              "      <td>2018-01-26 12:02:00</td>\n",
              "      <td>2018-01-26 13:04:00</td>\n",
              "    </tr>\n",
              "    <tr>\n",
              "      <th>4</th>\n",
              "      <td>2018-01-27</td>\n",
              "      <td>ABY</td>\n",
              "      <td>ATL</td>\n",
              "      <td>1400</td>\n",
              "      <td>1500</td>\n",
              "      <td>145.0</td>\n",
              "      <td>1</td>\n",
              "      <td>27</td>\n",
              "      <td>6</td>\n",
              "      <td>DL</td>\n",
              "      <td>N8839E</td>\n",
              "      <td>2018-01-27 14:00:00</td>\n",
              "      <td>2018-01-27 15:00:00</td>\n",
              "    </tr>\n",
              "  </tbody>\n",
              "</table>\n",
              "</div>\n",
              "    <div class=\"colab-df-buttons\">\n",
              "\n",
              "  <div class=\"colab-df-container\">\n",
              "    <button class=\"colab-df-convert\" onclick=\"convertToInteractive('df-e08b2206-37ec-4100-83b1-d6e61e2595dd')\"\n",
              "            title=\"Convert this dataframe to an interactive table.\"\n",
              "            style=\"display:none;\">\n",
              "\n",
              "  <svg xmlns=\"http://www.w3.org/2000/svg\" height=\"24px\" viewBox=\"0 -960 960 960\">\n",
              "    <path d=\"M120-120v-720h720v720H120Zm60-500h600v-160H180v160Zm220 220h160v-160H400v160Zm0 220h160v-160H400v160ZM180-400h160v-160H180v160Zm440 0h160v-160H620v160ZM180-180h160v-160H180v160Zm440 0h160v-160H620v160Z\"/>\n",
              "  </svg>\n",
              "    </button>\n",
              "\n",
              "  <style>\n",
              "    .colab-df-container {\n",
              "      display:flex;\n",
              "      gap: 12px;\n",
              "    }\n",
              "\n",
              "    .colab-df-convert {\n",
              "      background-color: #E8F0FE;\n",
              "      border: none;\n",
              "      border-radius: 50%;\n",
              "      cursor: pointer;\n",
              "      display: none;\n",
              "      fill: #1967D2;\n",
              "      height: 32px;\n",
              "      padding: 0 0 0 0;\n",
              "      width: 32px;\n",
              "    }\n",
              "\n",
              "    .colab-df-convert:hover {\n",
              "      background-color: #E2EBFA;\n",
              "      box-shadow: 0px 1px 2px rgba(60, 64, 67, 0.3), 0px 1px 3px 1px rgba(60, 64, 67, 0.15);\n",
              "      fill: #174EA6;\n",
              "    }\n",
              "\n",
              "    .colab-df-buttons div {\n",
              "      margin-bottom: 4px;\n",
              "    }\n",
              "\n",
              "    [theme=dark] .colab-df-convert {\n",
              "      background-color: #3B4455;\n",
              "      fill: #D2E3FC;\n",
              "    }\n",
              "\n",
              "    [theme=dark] .colab-df-convert:hover {\n",
              "      background-color: #434B5C;\n",
              "      box-shadow: 0px 1px 3px 1px rgba(0, 0, 0, 0.15);\n",
              "      filter: drop-shadow(0px 1px 2px rgba(0, 0, 0, 0.3));\n",
              "      fill: #FFFFFF;\n",
              "    }\n",
              "  </style>\n",
              "\n",
              "    <script>\n",
              "      const buttonEl =\n",
              "        document.querySelector('#df-e08b2206-37ec-4100-83b1-d6e61e2595dd button.colab-df-convert');\n",
              "      buttonEl.style.display =\n",
              "        google.colab.kernel.accessAllowed ? 'block' : 'none';\n",
              "\n",
              "      async function convertToInteractive(key) {\n",
              "        const element = document.querySelector('#df-e08b2206-37ec-4100-83b1-d6e61e2595dd');\n",
              "        const dataTable =\n",
              "          await google.colab.kernel.invokeFunction('convertToInteractive',\n",
              "                                                    [key], {});\n",
              "        if (!dataTable) return;\n",
              "\n",
              "        const docLinkHtml = 'Like what you see? Visit the ' +\n",
              "          '<a target=\"_blank\" href=https://colab.research.google.com/notebooks/data_table.ipynb>data table notebook</a>'\n",
              "          + ' to learn more about interactive tables.';\n",
              "        element.innerHTML = '';\n",
              "        dataTable['output_type'] = 'display_data';\n",
              "        await google.colab.output.renderOutput(dataTable, element);\n",
              "        const docLink = document.createElement('div');\n",
              "        docLink.innerHTML = docLinkHtml;\n",
              "        element.appendChild(docLink);\n",
              "      }\n",
              "    </script>\n",
              "  </div>\n",
              "\n",
              "\n",
              "    <div id=\"df-98c801b5-8c90-461a-96df-1b46c5ae27c4\">\n",
              "      <button class=\"colab-df-quickchart\" onclick=\"quickchart('df-98c801b5-8c90-461a-96df-1b46c5ae27c4')\"\n",
              "                title=\"Suggest charts\"\n",
              "                style=\"display:none;\">\n",
              "\n",
              "<svg xmlns=\"http://www.w3.org/2000/svg\" height=\"24px\"viewBox=\"0 0 24 24\"\n",
              "     width=\"24px\">\n",
              "    <g>\n",
              "        <path d=\"M19 3H5c-1.1 0-2 .9-2 2v14c0 1.1.9 2 2 2h14c1.1 0 2-.9 2-2V5c0-1.1-.9-2-2-2zM9 17H7v-7h2v7zm4 0h-2V7h2v10zm4 0h-2v-4h2v4z\"/>\n",
              "    </g>\n",
              "</svg>\n",
              "      </button>\n",
              "\n",
              "<style>\n",
              "  .colab-df-quickchart {\n",
              "      --bg-color: #E8F0FE;\n",
              "      --fill-color: #1967D2;\n",
              "      --hover-bg-color: #E2EBFA;\n",
              "      --hover-fill-color: #174EA6;\n",
              "      --disabled-fill-color: #AAA;\n",
              "      --disabled-bg-color: #DDD;\n",
              "  }\n",
              "\n",
              "  [theme=dark] .colab-df-quickchart {\n",
              "      --bg-color: #3B4455;\n",
              "      --fill-color: #D2E3FC;\n",
              "      --hover-bg-color: #434B5C;\n",
              "      --hover-fill-color: #FFFFFF;\n",
              "      --disabled-bg-color: #3B4455;\n",
              "      --disabled-fill-color: #666;\n",
              "  }\n",
              "\n",
              "  .colab-df-quickchart {\n",
              "    background-color: var(--bg-color);\n",
              "    border: none;\n",
              "    border-radius: 50%;\n",
              "    cursor: pointer;\n",
              "    display: none;\n",
              "    fill: var(--fill-color);\n",
              "    height: 32px;\n",
              "    padding: 0;\n",
              "    width: 32px;\n",
              "  }\n",
              "\n",
              "  .colab-df-quickchart:hover {\n",
              "    background-color: var(--hover-bg-color);\n",
              "    box-shadow: 0 1px 2px rgba(60, 64, 67, 0.3), 0 1px 3px 1px rgba(60, 64, 67, 0.15);\n",
              "    fill: var(--button-hover-fill-color);\n",
              "  }\n",
              "\n",
              "  .colab-df-quickchart-complete:disabled,\n",
              "  .colab-df-quickchart-complete:disabled:hover {\n",
              "    background-color: var(--disabled-bg-color);\n",
              "    fill: var(--disabled-fill-color);\n",
              "    box-shadow: none;\n",
              "  }\n",
              "\n",
              "  .colab-df-spinner {\n",
              "    border: 2px solid var(--fill-color);\n",
              "    border-color: transparent;\n",
              "    border-bottom-color: var(--fill-color);\n",
              "    animation:\n",
              "      spin 1s steps(1) infinite;\n",
              "  }\n",
              "\n",
              "  @keyframes spin {\n",
              "    0% {\n",
              "      border-color: transparent;\n",
              "      border-bottom-color: var(--fill-color);\n",
              "      border-left-color: var(--fill-color);\n",
              "    }\n",
              "    20% {\n",
              "      border-color: transparent;\n",
              "      border-left-color: var(--fill-color);\n",
              "      border-top-color: var(--fill-color);\n",
              "    }\n",
              "    30% {\n",
              "      border-color: transparent;\n",
              "      border-left-color: var(--fill-color);\n",
              "      border-top-color: var(--fill-color);\n",
              "      border-right-color: var(--fill-color);\n",
              "    }\n",
              "    40% {\n",
              "      border-color: transparent;\n",
              "      border-right-color: var(--fill-color);\n",
              "      border-top-color: var(--fill-color);\n",
              "    }\n",
              "    60% {\n",
              "      border-color: transparent;\n",
              "      border-right-color: var(--fill-color);\n",
              "    }\n",
              "    80% {\n",
              "      border-color: transparent;\n",
              "      border-right-color: var(--fill-color);\n",
              "      border-bottom-color: var(--fill-color);\n",
              "    }\n",
              "    90% {\n",
              "      border-color: transparent;\n",
              "      border-bottom-color: var(--fill-color);\n",
              "    }\n",
              "  }\n",
              "</style>\n",
              "\n",
              "      <script>\n",
              "        async function quickchart(key) {\n",
              "          const quickchartButtonEl =\n",
              "            document.querySelector('#' + key + ' button');\n",
              "          quickchartButtonEl.disabled = true;  // To prevent multiple clicks.\n",
              "          quickchartButtonEl.classList.add('colab-df-spinner');\n",
              "          try {\n",
              "            const charts = await google.colab.kernel.invokeFunction(\n",
              "                'suggestCharts', [key], {});\n",
              "          } catch (error) {\n",
              "            console.error('Error during call to suggestCharts:', error);\n",
              "          }\n",
              "          quickchartButtonEl.classList.remove('colab-df-spinner');\n",
              "          quickchartButtonEl.classList.add('colab-df-quickchart-complete');\n",
              "        }\n",
              "        (() => {\n",
              "          let quickchartButtonEl =\n",
              "            document.querySelector('#df-98c801b5-8c90-461a-96df-1b46c5ae27c4 button');\n",
              "          quickchartButtonEl.style.display =\n",
              "            google.colab.kernel.accessAllowed ? 'block' : 'none';\n",
              "        })();\n",
              "      </script>\n",
              "    </div>\n",
              "\n",
              "    </div>\n",
              "  </div>\n"
            ],
            "application/vnd.google.colaboratory.intrinsic+json": {
              "type": "dataframe",
              "variable_name": "X"
            }
          },
          "metadata": {},
          "execution_count": 40
        }
      ]
    },
    {
      "cell_type": "code",
      "source": [
        "from google.colab import files\n",
        "\n",
        "# Specify the path to your file in the Colab environment\n",
        "file_path = '2018_flights_cleaned_final_before_merging.parquet'\n",
        "\n",
        "# Execute the download command\n",
        "files.download(file_path)"
      ],
      "metadata": {
        "colab": {
          "base_uri": "https://localhost:8080/",
          "height": 17
        },
        "id": "dIMnPobJINgM",
        "outputId": "6c24b8fc-9b65-4ac4-9a42-65340d4ff001"
      },
      "execution_count": 43,
      "outputs": [
        {
          "output_type": "display_data",
          "data": {
            "text/plain": [
              "<IPython.core.display.Javascript object>"
            ],
            "application/javascript": [
              "\n",
              "    async function download(id, filename, size) {\n",
              "      if (!google.colab.kernel.accessAllowed) {\n",
              "        return;\n",
              "      }\n",
              "      const div = document.createElement('div');\n",
              "      const label = document.createElement('label');\n",
              "      label.textContent = `Downloading \"${filename}\": `;\n",
              "      div.appendChild(label);\n",
              "      const progress = document.createElement('progress');\n",
              "      progress.max = size;\n",
              "      div.appendChild(progress);\n",
              "      document.body.appendChild(div);\n",
              "\n",
              "      const buffers = [];\n",
              "      let downloaded = 0;\n",
              "\n",
              "      const channel = await google.colab.kernel.comms.open(id);\n",
              "      // Send a message to notify the kernel that we're ready.\n",
              "      channel.send({})\n",
              "\n",
              "      for await (const message of channel.messages) {\n",
              "        // Send a message to notify the kernel that we're ready.\n",
              "        channel.send({})\n",
              "        if (message.buffers) {\n",
              "          for (const buffer of message.buffers) {\n",
              "            buffers.push(buffer);\n",
              "            downloaded += buffer.byteLength;\n",
              "            progress.value = downloaded;\n",
              "          }\n",
              "        }\n",
              "      }\n",
              "      const blob = new Blob(buffers, {type: 'application/binary'});\n",
              "      const a = document.createElement('a');\n",
              "      a.href = window.URL.createObjectURL(blob);\n",
              "      a.download = filename;\n",
              "      div.appendChild(a);\n",
              "      a.click();\n",
              "      div.remove();\n",
              "    }\n",
              "  "
            ]
          },
          "metadata": {}
        },
        {
          "output_type": "display_data",
          "data": {
            "text/plain": [
              "<IPython.core.display.Javascript object>"
            ],
            "application/javascript": [
              "download(\"download_6d1622c3-4516-4902-b6ca-c13d6675b647\", \"2018_flights_cleaned_final_before_merging.parquet\", 91597815)"
            ]
          },
          "metadata": {}
        }
      ]
    },
    {
      "cell_type": "code",
      "source": [],
      "metadata": {
        "id": "HvEyZUqgINd5"
      },
      "execution_count": null,
      "outputs": []
    },
    {
      "cell_type": "code",
      "source": [
        "from sklearn.preprocessing import LabelEncoder\n",
        "\n",
        "le = LabelEncoder()\n",
        "\n",
        "# Fit the encoder to the 'city' column and transform it\n",
        "# The fit_transform() method learns the unique categories and then converts the column\n",
        "X['Origin_encoded'] = le.fit_transform(X['Origin'])\n",
        "X['Dest_encoded'] = le.fit_transform(X['Dest'])\n",
        "X['IATA_Code_Marketing_Airline_encoded'] = le.fit_transform(X['IATA_Code_Marketing_Airline'])\n",
        "\n",
        "X.drop(['Origin', 'Dest', 'IATA_Code_Marketing_Airline'], axis=1, inplace=True)\n",
        "\n",
        "X.info()"
      ],
      "metadata": {
        "id": "WGQDEMWvL0Gc"
      },
      "execution_count": null,
      "outputs": []
    },
    {
      "cell_type": "code",
      "source": [
        "import seaborn as sns\n",
        "import matplotlib.pyplot as plt\n",
        "\n",
        "# Calculate the correlation matrix\n",
        "corr_matrix = X.corr()\n",
        "\n",
        "# Create the heatmap\n",
        "plt.figure(figsize=(10, 8)) # Optional: Adjust figure size for better clarity\n",
        "sns.heatmap(corr_matrix, annot=True, cmap='coolwarm', fmt=\".2f\", linewidths=.5)\n",
        "\n",
        "# Set the title of the plot\n",
        "plt.title('Correlation Matrix Heatmap')\n",
        "\n",
        "# Display the plot\n",
        "plt.show()"
      ],
      "metadata": {
        "colab": {
          "base_uri": "https://localhost:8080/",
          "height": 837
        },
        "id": "ir6sBAnSJXNB",
        "outputId": "451225f8-3aa5-4e21-e4f8-a3c1ccc932d3"
      },
      "execution_count": null,
      "outputs": [
        {
          "output_type": "display_data",
          "data": {
            "text/plain": [
              "<Figure size 1000x800 with 2 Axes>"
            ],
            "image/png": "[encoded data removed]"
          },
          "metadata": {}
        }
      ]
    },
    {
      "cell_type": "code",
      "source": [
        "from sklearn.feature_selection import mutual_info_classif\n",
        "\n",
        "mi = mutual_info_classif(X, y_cancel, discrete_features='auto')\n",
        "for col, score in zip(X.columns, mi):\n",
        "    print(f\"{col}: {score:.3f}\")\n"
      ],
      "metadata": {
        "colab": {
          "base_uri": "https://localhost:8080/"
        },
        "id": "q2RSiyr7N_Ft",
        "outputId": "13d2fa54-d0cd-4f84-aa89-b7c8df11f881"
      },
      "execution_count": null,
      "outputs": [
        {
          "output_type": "stream",
          "name": "stdout",
          "text": [
            "CRSDepTime: 0.003\n",
            "Distance: 0.002\n",
            "Month: 0.126\n",
            "DayofMonth: 0.042\n",
            "DayOfWeek: 0.151\n",
            "Origin_encoded: 0.021\n",
            "Dest_encoded: 0.021\n",
            "IATA_Code_Marketing_Airline_encoded: 0.154\n"
          ]
        }
      ]
    },
    {
      "cell_type": "code",
      "source": [
        "mi = mutual_info_classif(X, y_delay, discrete_features='auto')\n",
        "for col, score in zip(X.columns, mi):\n",
        "    print(f\"{col}: {score:.3f}\")"
      ],
      "metadata": {
        "colab": {
          "base_uri": "https://localhost:8080/"
        },
        "id": "Ig5GbfEVOfCt",
        "outputId": "902584a1-acd2-4ae5-dd5a-c4d20b374b0e"
      },
      "execution_count": null,
      "outputs": [
        {
          "output_type": "stream",
          "name": "stdout",
          "text": [
            "CRSDepTime: 0.038\n",
            "Distance: 0.055\n",
            "Month: 0.010\n",
            "DayofMonth: 0.004\n",
            "DayOfWeek: 0.008\n",
            "Origin_encoded: 0.059\n",
            "Dest_encoded: 0.041\n",
            "IATA_Code_Marketing_Airline_encoded: 0.090\n"
          ]
        }
      ]
    },
    {
      "cell_type": "code",
      "source": [
        "with pd.option_context('display.max_rows', None):\n",
        "    print(df.iloc[0])"
      ],
      "metadata": {
        "id": "8M49jPwjS1LU"
      },
      "execution_count": null,
      "outputs": []
    }
  ]
}